{
 "cells": [
  {
   "cell_type": "code",
   "execution_count": 1,
   "metadata": {},
   "outputs": [],
   "source": [
    "import sympy as sym"
   ]
  },
  {
   "cell_type": "code",
   "execution_count": 2,
   "metadata": {},
   "outputs": [],
   "source": [
    "c, a, wealth, utility = sym.symbols(\"c a w u\", real=True, positive=True)\n",
    "CRRA, WealthShare, WealthShift = sym.symbols(\n",
    "    \"sigma delta  \\\\underline{a}\", real=True, positive=True\n",
    ")\n",
    "vp_a = sym.symbols(\"v_a\", real=True, positive=True)"
   ]
  },
  {
   "cell_type": "code",
   "execution_count": 3,
   "metadata": {},
   "outputs": [
    {
     "data": {
      "text/latex": [
       "$\\displaystyle \\underline{a} + a$"
      ],
      "text/plain": [
       "\\underline{a} + a"
      ]
     },
     "execution_count": 3,
     "metadata": {},
     "output_type": "execute_result"
    }
   ],
   "source": [
    "w = a + WealthShift\n",
    "w"
   ]
  },
  {
   "cell_type": "code",
   "execution_count": 4,
   "metadata": {},
   "outputs": [
    {
     "data": {
      "text/latex": [
       "$\\displaystyle \\frac{\\left(c^{1 - \\delta} \\left(\\underline{a} + a\\right)^{\\delta}\\right)^{1 - \\sigma}}{1 - \\sigma}$"
      ],
      "text/plain": [
       "(c**(1 - delta)*(\\underline{a} + a)**delta)**(1 - sigma)/(1 - sigma)"
      ]
     },
     "execution_count": 4,
     "metadata": {},
     "output_type": "execute_result"
    }
   ],
   "source": [
    "u = (c ** (1 - WealthShare) * w**WealthShare) ** (1 - CRRA) / (1 - CRRA)\n",
    "u"
   ]
  },
  {
   "cell_type": "code",
   "execution_count": 5,
   "metadata": {},
   "outputs": [
    {
     "data": {
      "text/latex": [
       "$\\displaystyle \\frac{\\left(c^{1 - \\delta} w^{\\delta}\\right)^{1 - \\sigma}}{1 - \\sigma}$"
      ],
      "text/plain": [
       "(c**(1 - delta)*w**delta)**(1 - sigma)/(1 - sigma)"
      ]
     },
     "execution_count": 5,
     "metadata": {},
     "output_type": "execute_result"
    }
   ],
   "source": [
    "u_alt = u.replace(w, wealth)\n",
    "u_alt"
   ]
  },
  {
   "cell_type": "code",
   "execution_count": 6,
   "metadata": {},
   "outputs": [
    {
     "data": {
      "text/latex": [
       "$\\displaystyle c^{\\delta \\sigma - \\delta - \\sigma} w^{\\delta \\left(1 - \\sigma\\right)} \\left(1 - \\delta\\right)$"
      ],
      "text/plain": [
       "c**(delta*sigma - delta - sigma)*w**(delta*(1 - sigma))*(1 - delta)"
      ]
     },
     "execution_count": 6,
     "metadata": {},
     "output_type": "execute_result"
    }
   ],
   "source": [
    "dudc = sym.diff(u, c)\n",
    "dudc.simplify().replace(w, wealth).cancel().simplify()"
   ]
  },
  {
   "cell_type": "code",
   "execution_count": 7,
   "metadata": {},
   "outputs": [
    {
     "data": {
      "text/latex": [
       "$\\displaystyle c^{\\delta \\sigma - \\delta - \\sigma + 1} \\delta w^{\\delta \\left(1 - \\sigma\\right) - 1}$"
      ],
      "text/plain": [
       "c**(delta*sigma - delta - sigma + 1)*delta*w**(delta*(1 - sigma) - 1)"
      ]
     },
     "execution_count": 7,
     "metadata": {},
     "output_type": "execute_result"
    }
   ],
   "source": [
    "dudw = u.replace(w, wealth).diff(wealth)\n",
    "dudw.simplify().cancel().simplify()"
   ]
  },
  {
   "cell_type": "code",
   "execution_count": 8,
   "metadata": {},
   "outputs": [
    {
     "data": {
      "text/latex": [
       "$\\displaystyle c^{\\delta \\sigma - \\delta - \\sigma + 1} \\delta w^{\\delta \\left(1 - \\sigma\\right) - 1}$"
      ],
      "text/plain": [
       "c**(delta*sigma - delta - sigma + 1)*delta*w**(delta*(1 - sigma) - 1)"
      ]
     },
     "execution_count": 8,
     "metadata": {},
     "output_type": "execute_result"
    }
   ],
   "source": [
    "duda = sym.diff(u, a)\n",
    "duda.replace(w, wealth).simplify().cancel().simplify()"
   ]
  },
  {
   "cell_type": "code",
   "execution_count": 9,
   "metadata": {},
   "outputs": [
    {
     "data": {
      "text/latex": [
       "$\\displaystyle c^{\\delta \\sigma - \\delta - \\sigma - 1} w^{\\delta \\left(1 - \\sigma\\right)} \\left(- \\delta^{2} \\sigma + \\delta^{2} + 2 \\delta \\sigma - \\delta - \\sigma\\right)$"
      ],
      "text/plain": [
       "c**(delta*sigma - delta - sigma - 1)*w**(delta*(1 - sigma))*(-delta**2*sigma + delta**2 + 2*delta*sigma - delta - sigma)"
      ]
     },
     "execution_count": 9,
     "metadata": {},
     "output_type": "execute_result"
    }
   ],
   "source": [
    "dudcdc = sym.diff(dudc.replace(w, wealth), c)\n",
    "dudcdc.simplify().cancel().simplify()"
   ]
  },
  {
   "cell_type": "code",
   "execution_count": 10,
   "metadata": {},
   "outputs": [
    {
     "data": {
      "text/latex": [
       "$\\displaystyle c^{\\delta \\sigma - \\delta - \\sigma} \\delta w^{\\delta \\left(1 - \\sigma\\right) - 1} \\left(\\delta \\sigma - \\delta - \\sigma + 1\\right)$"
      ],
      "text/plain": [
       "c**(delta*sigma - delta - sigma)*delta*w**(delta*(1 - sigma) - 1)*(delta*sigma - delta - sigma + 1)"
      ]
     },
     "execution_count": 10,
     "metadata": {},
     "output_type": "execute_result"
    }
   ],
   "source": [
    "dudadc = sym.diff(duda.replace(w, wealth), c)\n",
    "dudadc.simplify().cancel().simplify()"
   ]
  },
  {
   "cell_type": "code",
   "execution_count": 11,
   "metadata": {},
   "outputs": [
    {
     "data": {
      "text/latex": [
       "$\\displaystyle - \\frac{c^{1 - \\delta} c^{\\delta - 1} \\delta \\left(c^{1 - \\delta} \\left(\\underline{a} + a\\right)^{\\delta}\\right)^{1 - \\sigma}}{\\underline{a} + a} + \\frac{c^{1 - \\delta} c^{\\delta - 1} \\left(c^{1 - \\delta} \\left(\\underline{a} + a\\right)^{\\delta}\\right)^{1 - \\sigma} \\left(1 - \\delta\\right)}{c}$"
      ],
      "text/plain": [
       "-c**(1 - delta)*c**(delta - 1)*delta*(c**(1 - delta)*(\\underline{a} + a)**delta)**(1 - sigma)/(\\underline{a} + a) + c**(1 - delta)*c**(delta - 1)*(c**(1 - delta)*(\\underline{a} + a)**delta)**(1 - sigma)*(1 - delta)/c"
      ]
     },
     "execution_count": 11,
     "metadata": {},
     "output_type": "execute_result"
    }
   ],
   "source": [
    "euler = dudc - duda\n",
    "euler"
   ]
  },
  {
   "cell_type": "code",
   "execution_count": 12,
   "metadata": {},
   "outputs": [],
   "source": [
    "from HARK.ConsumptionSaving.ConsPortfolioModel import PortfolioConsumerType\n",
    "from HARK.ConsumptionSaving.ConsWealthPortfolioModel import WealthPortfolioConsumerType\n",
    "from HARK.utilities import plot_funcs"
   ]
  },
  {
   "cell_type": "code",
   "execution_count": 13,
   "metadata": {},
   "outputs": [
    {
     "data": {
      "text/plain": [
       "0.0009999999999998899"
      ]
     },
     "execution_count": 13,
     "metadata": {},
     "output_type": "execute_result"
    }
   ],
   "source": [
    "cycles = 0\n",
    "port_agent = PortfolioConsumerType(cycles=cycles)\n",
    "wealth_agent = WealthPortfolioConsumerType(\n",
    "    cycles=cycles, WealthShare=0.01, WealthShift=0.0\n",
    ")\n",
    "port_agent.CRRA\n",
    "port_agent.aXtraGrid[0]"
   ]
  },
  {
   "cell_type": "code",
   "execution_count": 14,
   "metadata": {},
   "outputs": [],
   "source": [
    "port_agent.solve()\n",
    "# port_agent.completed_cycles"
   ]
  },
  {
   "cell_type": "code",
   "execution_count": 15,
   "metadata": {},
   "outputs": [
    {
     "name": "stderr",
     "output_type": "stream",
     "text": [
      "c:\\Users\\alujan\\micromamba\\envs\\hark-dev\\lib\\site-packages\\scipy\\optimize\\_root_scalar.py:315: RuntimeWarning: Derivative was zero.\n",
      "  r, sol = methodc(f, x0, args=args, fprime=fprime, fprime2=None,\n"
     ]
    }
   ],
   "source": [
    "wealth_agent.solve()\n",
    "# wealth_agent.completed_cycles"
   ]
  },
  {
   "cell_type": "code",
   "execution_count": 16,
   "metadata": {},
   "outputs": [
    {
     "data": {
      "image/png": "[encoded data removed]",
      "text/plain": [
       "<Figure size 640x480 with 1 Axes>"
      ]
     },
     "metadata": {},
     "output_type": "display_data"
    }
   ],
   "source": [
    "plot_funcs([wealth_agent.solution[0].cFuncAdj, port_agent.solution[0].cFuncAdj], 0, 10)"
   ]
  },
  {
   "cell_type": "code",
   "execution_count": 17,
   "metadata": {},
   "outputs": [
    {
     "data": {
      "text/plain": [
       "array([0.        , 0.09897439, 0.5241495 , 0.57159817, 0.61058339,\n",
       "       0.64604894, 0.6789416 , 0.70926494, 0.73715601, 0.76188547,\n",
       "       0.78370566, 0.80313825, 0.82054635, 0.83618013, 0.85081159,\n",
       "       0.86450686, 0.87738236, 0.88950449, 0.90102701, 0.91195689,\n",
       "       0.92241681, 0.93241542, 0.94193209, 0.95107539, 0.95991193,\n",
       "       0.96844682, 0.97669905, 0.98473857, 0.99260001, 1.00028271,\n",
       "       1.00782907, 1.01527035, 1.02262089, 1.0298891 , 1.03710862,\n",
       "       1.04429518, 1.05146052, 1.05860253, 1.06573275, 1.07287696,\n",
       "       1.08004235, 1.08723673, 1.09446068, 1.10173118, 1.10905203,\n",
       "       1.11643161, 1.12387633, 1.13138581, 1.13897191, 1.14664096,\n",
       "       1.15439737, 1.16224531, 1.17018419, 1.17822186, 1.18636443,\n",
       "       1.19461561, 1.20297913, 1.2114587 , 1.22005538, 1.22877272,\n",
       "       1.23761561, 1.24658724, 1.25569135, 1.26493183, 1.2743119 ,\n",
       "       1.28383336, 1.29349945, 1.30331452, 1.31328114, 1.32340238,\n",
       "       1.33368201, 1.34412296, 1.35472787, 1.36549786, 1.376437  ,\n",
       "       1.38755019, 1.39884047, 1.41031129, 1.42196643, 1.43381017,\n",
       "       1.4458459 , 1.45807719, 1.47047873, 1.48304245, 1.49581686,\n",
       "       1.50880665, 1.52201414, 1.53544441, 1.54910526, 1.56300222,\n",
       "       1.57713747, 1.59151903, 1.60615265, 1.62104636, 1.63620267,\n",
       "       1.65163157, 1.66733958, 1.68333283, 1.69961718, 1.71620064,\n",
       "       1.7330916 , 1.75029756, 1.7678258 , 1.78568113, 1.80387438,\n",
       "       1.82241353, 1.84130698, 1.86056275, 1.88018613, 1.90018908,\n",
       "       1.92058047, 1.9413694 , 1.96256525, 1.98417311, 2.00620451,\n",
       "       2.02867123, 2.05158336, 2.07495115, 2.09878502, 2.12309103,\n",
       "       2.1478822 , 2.17317182, 2.19897161, 2.22529318, 2.25214785,\n",
       "       2.27954827, 2.30749751, 2.33601577, 2.3651174 , 2.39481576,\n",
       "       2.42512429, 2.45605695, 2.48762801, 2.51984977, 2.55272992,\n",
       "       2.5862918 , 2.6205512 , 2.65552401, 2.69122636, 2.7276747 ,\n",
       "       2.76488614, 2.80287817, 2.8416655 , 2.88125832, 2.92168534,\n",
       "       2.96296557, 3.00511842, 3.04816367, 3.09212165, 3.13701321,\n",
       "       3.18285956, 3.22968265, 3.2775047 , 3.32634145, 3.37621396,\n",
       "       3.42715452, 3.47918727, 3.53233762, 3.58663115, 3.64209375,\n",
       "       3.69875236, 3.75663441, 3.8157679 , 3.87618145, 3.93790461,\n",
       "       4.00096763, 4.06540059, 4.13121584, 4.19846421, 4.26717869,\n",
       "       4.33739341, 4.40914316, 4.4824635 , 4.55739091, 4.63396259,\n",
       "       4.71221723, 4.79219379, 4.87393243, 4.95747439, 5.04286146,\n",
       "       5.1301366 , 5.21934418, 5.31052981, 5.40373943, 5.49901604,\n",
       "       5.59639195, 5.69593835, 5.79770668, 5.90175045, 6.00812505,\n",
       "       6.11688743, 6.22809631, 6.34181183, 6.45809668, 6.5770156 ,\n",
       "       6.69863546, 6.82302511, 6.95025526, 7.08039888, 7.21353168,\n",
       "       7.34973104])"
      ]
     },
     "execution_count": 17,
     "metadata": {},
     "output_type": "execute_result"
    }
   ],
   "source": [
    "wealth_agent.solution[0].cFuncAdj.y_list"
   ]
  },
  {
   "cell_type": "code",
   "execution_count": 18,
   "metadata": {},
   "outputs": [
    {
     "data": {
      "image/png": "[encoded data removed]",
      "text/plain": [
       "<Figure size 640x480 with 1 Axes>"
      ]
     },
     "metadata": {},
     "output_type": "display_data"
    }
   ],
   "source": [
    "plot_funcs(\n",
    "    [wealth_agent.solution[0].ShareFuncAdj, port_agent.solution[0].ShareFuncAdj], 0, 100\n",
    ")"
   ]
  },
  {
   "cell_type": "code",
   "execution_count": null,
   "metadata": {},
   "outputs": [],
   "source": []
  }
 ],
 "metadata": {
  "kernelspec": {
   "display_name": "hark-dev",
   "language": "python",
   "name": "python3"
  },
  "language_info": {
   "codemirror_mode": {
    "name": "ipython",
    "version": 3
   },
   "file_extension": ".py",
   "mimetype": "text/x-python",
   "name": "python",
   "nbconvert_exporter": "python",
   "pygments_lexer": "ipython3",
   "version": "3.10.13"
  }
 },
 "nbformat": 4,
 "nbformat_minor": 2
}
