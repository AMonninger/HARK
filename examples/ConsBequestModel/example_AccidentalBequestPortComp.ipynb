{
 "cells": [
  {
   "cell_type": "code",
   "execution_count": 1,
   "metadata": {},
   "outputs": [],
   "source": [
    "from HARK.ConsumptionSaving.ConsBequestModel import BequestWarmGlowPortfolioType\n",
    "from HARK.ConsumptionSaving.ConsPortfolioModel import PortfolioConsumerType\n",
    "from HARK.utilities import plot_funcs"
   ]
  },
  {
   "cell_type": "code",
   "execution_count": 2,
   "metadata": {},
   "outputs": [],
   "source": [
    "port_type = PortfolioConsumerType()\n",
    "port_type.cycles = 0\n",
    "port_type.solve()"
   ]
  },
  {
   "cell_type": "code",
   "execution_count": 3,
   "metadata": {},
   "outputs": [
    {
     "ename": "AttributeError",
     "evalue": "'function' object has no attribute 'vPfuncAdj'",
     "output_type": "error",
     "traceback": [
      "\u001b[1;31m---------------------------------------------------------------------------\u001b[0m",
      "\u001b[1;31mAttributeError\u001b[0m                            Traceback (most recent call last)",
      "Cell \u001b[1;32mIn[3], line 3\u001b[0m\n\u001b[0;32m      1\u001b[0m beq_type \u001b[38;5;241m=\u001b[39m BequestWarmGlowPortfolioType(BeqFac\u001b[38;5;241m=\u001b[39m\u001b[38;5;241m0.0\u001b[39m, BeqFacTerm\u001b[38;5;241m=\u001b[39m\u001b[38;5;241m0.0\u001b[39m)\n\u001b[0;32m      2\u001b[0m beq_type\u001b[38;5;241m.\u001b[39mcycles \u001b[38;5;241m=\u001b[39m \u001b[38;5;241m0\u001b[39m\n\u001b[1;32m----> 3\u001b[0m \u001b[43mbeq_type\u001b[49m\u001b[38;5;241;43m.\u001b[39;49m\u001b[43msolve\u001b[49m\u001b[43m(\u001b[49m\u001b[43m)\u001b[49m\n",
      "File \u001b[1;32m~\\Documents\\GitHub\\HARK\\HARK\\core.py:684\u001b[0m, in \u001b[0;36mAgentType.solve\u001b[1;34m(self, verbose, run_presolve)\u001b[0m\n\u001b[0;32m    682\u001b[0m \u001b[38;5;28;01mif\u001b[39;00m run_presolve:\n\u001b[0;32m    683\u001b[0m     \u001b[38;5;28mself\u001b[39m\u001b[38;5;241m.\u001b[39mpre_solve()  \u001b[38;5;66;03m# Do pre-solution stuff\u001b[39;00m\n\u001b[1;32m--> 684\u001b[0m \u001b[38;5;28mself\u001b[39m\u001b[38;5;241m.\u001b[39msolution \u001b[38;5;241m=\u001b[39m \u001b[43msolve_agent\u001b[49m\u001b[43m(\u001b[49m\n\u001b[0;32m    685\u001b[0m \u001b[43m    \u001b[49m\u001b[38;5;28;43mself\u001b[39;49m\u001b[43m,\u001b[49m\u001b[43m \u001b[49m\u001b[43mverbose\u001b[49m\n\u001b[0;32m    686\u001b[0m \u001b[43m\u001b[49m\u001b[43m)\u001b[49m  \u001b[38;5;66;03m# Solve the model by backward induction\u001b[39;00m\n\u001b[0;32m    687\u001b[0m \u001b[38;5;28mself\u001b[39m\u001b[38;5;241m.\u001b[39mpost_solve()\n",
      "File \u001b[1;32m~\\Documents\\GitHub\\HARK\\HARK\\core.py:1299\u001b[0m, in \u001b[0;36msolve_agent\u001b[1;34m(agent, verbose)\u001b[0m\n\u001b[0;32m   1296\u001b[0m     t_last \u001b[38;5;241m=\u001b[39m time()\n\u001b[0;32m   1297\u001b[0m \u001b[38;5;28;01mwhile\u001b[39;00m go:\n\u001b[0;32m   1298\u001b[0m     \u001b[38;5;66;03m# Solve a cycle of the model, recording it if horizon is finite\u001b[39;00m\n\u001b[1;32m-> 1299\u001b[0m     solution_cycle \u001b[38;5;241m=\u001b[39m \u001b[43msolve_one_cycle\u001b[49m\u001b[43m(\u001b[49m\u001b[43magent\u001b[49m\u001b[43m,\u001b[49m\u001b[43m \u001b[49m\u001b[43msolution_last\u001b[49m\u001b[43m)\u001b[49m\n\u001b[0;32m   1300\u001b[0m     \u001b[38;5;28;01mif\u001b[39;00m \u001b[38;5;129;01mnot\u001b[39;00m infinite_horizon:\n\u001b[0;32m   1301\u001b[0m         solution \u001b[38;5;241m=\u001b[39m solution_cycle \u001b[38;5;241m+\u001b[39m solution\n",
      "File \u001b[1;32m~\\Documents\\GitHub\\HARK\\HARK\\core.py:1423\u001b[0m, in \u001b[0;36msolve_one_cycle\u001b[1;34m(agent, solution_last)\u001b[0m\n\u001b[0;32m   1420\u001b[0m temp_dict \u001b[38;5;241m=\u001b[39m {name: solve_dict[name] \u001b[38;5;28;01mfor\u001b[39;00m name \u001b[38;5;129;01min\u001b[39;00m these_args}\n\u001b[0;32m   1422\u001b[0m \u001b[38;5;66;03m# Solve one period, add it to the solution, and move to the next period\u001b[39;00m\n\u001b[1;32m-> 1423\u001b[0m solution_t \u001b[38;5;241m=\u001b[39m solve_one_period(\u001b[38;5;241m*\u001b[39m\u001b[38;5;241m*\u001b[39mtemp_dict)\n\u001b[0;32m   1424\u001b[0m solution_cycle\u001b[38;5;241m.\u001b[39minsert(\u001b[38;5;241m0\u001b[39m, solution_t)\n\u001b[0;32m   1425\u001b[0m solution_next \u001b[38;5;241m=\u001b[39m solution_t\n",
      "File \u001b[1;32m~\\Documents\\GitHub\\HARK\\HARK\\ConsumptionSaving\\ConsBequestModel.py:568\u001b[0m, in \u001b[0;36msolve_one_period_ConsPortfolioWarmGlow\u001b[1;34m(solution_next, IncShkDstn, RiskyDstn, LivPrb, DiscFac, CRRA, Rfree, PermGroFac, BoroCnstArt, aXtraGrid, ShareGrid, AdjustPrb, ShareLimit, vFuncBool, DiscreteShareBool, BeqCRRA, BeqFac, BeqShift)\u001b[0m\n\u001b[0;32m    565\u001b[0m warm_glow \u001b[38;5;241m=\u001b[39m UtilityFuncStoneGeary(BeqCRRA, BeqFacEff, BeqShift)\n\u001b[0;32m    567\u001b[0m \u001b[38;5;66;03m# Unpack next period's solution for easier access\u001b[39;00m\n\u001b[1;32m--> 568\u001b[0m vPfuncAdj_next \u001b[38;5;241m=\u001b[39m \u001b[43msolution_next\u001b[49m\u001b[38;5;241;43m.\u001b[39;49m\u001b[43mvPfuncAdj\u001b[49m\n\u001b[0;32m    569\u001b[0m dvdmFuncFxd_next \u001b[38;5;241m=\u001b[39m solution_next\u001b[38;5;241m.\u001b[39mdvdmFuncFxd\n\u001b[0;32m    570\u001b[0m dvdsFuncFxd_next \u001b[38;5;241m=\u001b[39m solution_next\u001b[38;5;241m.\u001b[39mdvdsFuncFxd\n",
      "\u001b[1;31mAttributeError\u001b[0m: 'function' object has no attribute 'vPfuncAdj'"
     ]
    }
   ],
   "source": [
    "beq_type = BequestWarmGlowPortfolioType(BeqFac=0.0, BeqFacTerm=0.0)\n",
    "beq_type.cycles = 0\n",
    "beq_type.solve()"
   ]
  },
  {
   "cell_type": "code",
   "execution_count": null,
   "metadata": {},
   "outputs": [],
   "source": [
    "plot_funcs([beq_type.solution[0].cFuncAdj, port_type.solution[0].cFuncAdj], 0, 10)"
   ]
  },
  {
   "cell_type": "code",
   "execution_count": null,
   "metadata": {},
   "outputs": [],
   "source": [
    "plot_funcs(\n",
    "    [beq_type.solution[0].ShareFuncAdj, port_type.solution[0].ShareFuncAdj],\n",
    "    0,\n",
    "    100,\n",
    ")"
   ]
  },
  {
   "cell_type": "code",
   "execution_count": null,
   "metadata": {},
   "outputs": [],
   "source": []
  }
 ],
 "metadata": {
  "kernelspec": {
   "display_name": "Python 3 (ipykernel)",
   "language": "python",
   "name": "python3"
  },
  "language_info": {
   "codemirror_mode": {
    "name": "ipython",
    "version": 3
   },
   "file_extension": ".py",
   "mimetype": "text/x-python",
   "name": "python",
   "nbconvert_exporter": "python",
   "pygments_lexer": "ipython3",
   "version": "3.10.14"
  }
 },
 "nbformat": 4,
 "nbformat_minor": 4
}
