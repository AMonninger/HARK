{
 "cells": [
  {
   "cell_type": "code",
   "execution_count": 1,
   "metadata": {},
   "outputs": [],
   "source": [
    "import sympy as sym"
   ]
  },
  {
   "cell_type": "code",
   "execution_count": 2,
   "metadata": {},
   "outputs": [],
   "source": [
    "c, a, wealth, utility = sym.symbols(\"c a w u\", real=True, positive=True)\n",
    "CRRA, WealthShare, WealthShift = sym.symbols(\n",
    "    \"sigma delta  \\\\underline{a}\", real=True, positive=True\n",
    ")\n",
    "vp_a = sym.symbols(\"v_a\", real=True, positive=True)\n",
    "chi = sym.Symbol(\"chi\", real=True, positive=True)"
   ]
  },
  {
   "cell_type": "code",
   "execution_count": 3,
   "metadata": {},
   "outputs": [
    {
     "data": {
      "text/latex": [
       "$\\displaystyle \\underline{a} + a$"
      ],
      "text/plain": [
       "\\underline{a} + a"
      ]
     },
     "execution_count": 3,
     "metadata": {},
     "output_type": "execute_result"
    }
   ],
   "source": [
    "w = a + WealthShift\n",
    "w"
   ]
  },
  {
   "cell_type": "code",
   "execution_count": 4,
   "metadata": {},
   "outputs": [
    {
     "data": {
      "text/latex": [
       "$\\displaystyle \\frac{\\left(c^{1 - \\delta} \\left(\\underline{a} + a\\right)^{\\delta}\\right)^{1 - \\sigma}}{1 - \\sigma}$"
      ],
      "text/plain": [
       "(c**(1 - delta)*(\\underline{a} + a)**delta)**(1 - sigma)/(1 - sigma)"
      ]
     },
     "execution_count": 4,
     "metadata": {},
     "output_type": "execute_result"
    }
   ],
   "source": [
    "u = (c ** (1 - WealthShare) * w**WealthShare) ** (1 - CRRA) / (1 - CRRA)\n",
    "u"
   ]
  },
  {
   "cell_type": "code",
   "execution_count": 5,
   "metadata": {},
   "outputs": [
    {
     "data": {
      "text/latex": [
       "$\\displaystyle \\frac{\\left(c^{1 - \\delta} w^{\\delta}\\right)^{1 - \\sigma}}{1 - \\sigma}$"
      ],
      "text/plain": [
       "(c**(1 - delta)*w**delta)**(1 - sigma)/(1 - sigma)"
      ]
     },
     "execution_count": 5,
     "metadata": {},
     "output_type": "execute_result"
    }
   ],
   "source": [
    "u_alt = u.replace(w, wealth)\n",
    "u_alt"
   ]
  },
  {
   "cell_type": "code",
   "execution_count": 6,
   "metadata": {},
   "outputs": [
    {
     "data": {
      "text/latex": [
       "$\\displaystyle \\frac{- c^{\\delta \\sigma - \\delta - \\sigma + 1} \\delta \\left(\\underline{a} + a\\right)^{- \\delta \\sigma + \\delta} + c^{\\delta \\sigma - \\delta - \\sigma + 1} \\left(\\underline{a} + a\\right)^{- \\delta \\sigma + \\delta}}{c}$"
      ],
      "text/plain": [
       "(-c**(delta*sigma - delta - sigma + 1)*delta*(\\underline{a} + a)**(-delta*sigma + delta) + c**(delta*sigma - delta - sigma + 1)*(\\underline{a} + a)**(-delta*sigma + delta))/c"
      ]
     },
     "execution_count": 6,
     "metadata": {},
     "output_type": "execute_result"
    }
   ],
   "source": [
    "dudc = sym.diff(u, c)\n",
    "dudc.cancel().subs(chi, c * (a + WealthShift) ** (-1))"
   ]
  },
  {
   "cell_type": "code",
   "execution_count": 7,
   "metadata": {},
   "outputs": [
    {
     "data": {
      "text/latex": [
       "$\\displaystyle \\frac{\\delta \\left(c^{1 - \\delta} w^{\\delta}\\right)^{1 - \\sigma}}{w}$"
      ],
      "text/plain": [
       "delta*(c**(1 - delta)*w**delta)**(1 - sigma)/w"
      ]
     },
     "execution_count": 7,
     "metadata": {},
     "output_type": "execute_result"
    }
   ],
   "source": [
    "dudw = u.replace(w, wealth).diff(wealth)\n",
    "dudw.simplify()"
   ]
  },
  {
   "cell_type": "code",
   "execution_count": 8,
   "metadata": {},
   "outputs": [
    {
     "data": {
      "text/latex": [
       "$\\displaystyle \\frac{c^{1 - \\delta} c^{\\delta - 1} \\delta \\left(c^{1 - \\delta} w^{\\delta}\\right)^{1 - \\sigma}}{w}$"
      ],
      "text/plain": [
       "c**(1 - delta)*c**(delta - 1)*delta*(c**(1 - delta)*w**delta)**(1 - sigma)/w"
      ]
     },
     "execution_count": 8,
     "metadata": {},
     "output_type": "execute_result"
    }
   ],
   "source": [
    "duda = sym.diff(u, a)\n",
    "duda.replace(w, wealth)"
   ]
  },
  {
   "cell_type": "code",
   "execution_count": 9,
   "metadata": {},
   "outputs": [
    {
     "data": {
      "text/latex": [
       "$\\displaystyle \\left(c^{\\delta \\sigma - \\delta - \\sigma} \\left(\\underline{a} + a\\right)^{- \\delta \\sigma + \\delta - 1} \\left(- \\underline{a} \\delta + \\underline{a} - a \\delta + a - c \\delta\\right)\\right)^{- \\frac{1}{\\sigma}}$"
      ],
      "text/plain": [
       "(c**(delta*sigma - delta - sigma)*(\\underline{a} + a)**(-delta*sigma + delta - 1)*(-\\underline{a}*delta + \\underline{a} - a*delta + a - c*delta))**(-1/sigma)"
      ]
     },
     "execution_count": 9,
     "metadata": {},
     "output_type": "execute_result"
    }
   ],
   "source": [
    "half_euler = ((dudc - duda).cancel().simplify()) ** (-1 / CRRA)\n",
    "half_euler.subs(chi, c / a)"
   ]
  },
  {
   "cell_type": "code",
   "execution_count": 10,
   "metadata": {},
   "outputs": [
    {
     "data": {
      "text/latex": [
       "$\\displaystyle \\left(\\underline{a}^{- \\delta \\sigma + \\delta - 1} c^{\\delta \\sigma - \\delta - \\sigma} \\left(- \\underline{a} \\delta + \\underline{a} - c \\delta\\right)\\right)^{- \\frac{1}{\\sigma}}$"
      ],
      "text/plain": [
       "(\\underline{a}**(-delta*sigma + delta - 1)*c**(delta*sigma - delta - sigma)*(-\\underline{a}*delta + \\underline{a} - c*delta))**(-1/sigma)"
      ]
     },
     "execution_count": 10,
     "metadata": {},
     "output_type": "execute_result"
    }
   ],
   "source": [
    "sym.limit(half_euler, a, 0)"
   ]
  },
  {
   "cell_type": "code",
   "execution_count": 11,
   "metadata": {},
   "outputs": [
    {
     "data": {
      "text/latex": [
       "$\\displaystyle c^{\\delta \\sigma - \\delta - \\sigma - 1} w^{\\delta \\left(1 - \\sigma\\right)} \\left(- \\delta^{2} \\sigma + \\delta^{2} + 2 \\delta \\sigma - \\delta - \\sigma\\right)$"
      ],
      "text/plain": [
       "c**(delta*sigma - delta - sigma - 1)*w**(delta*(1 - sigma))*(-delta**2*sigma + delta**2 + 2*delta*sigma - delta - sigma)"
      ]
     },
     "execution_count": 11,
     "metadata": {},
     "output_type": "execute_result"
    }
   ],
   "source": [
    "dudcdc = sym.diff(dudc.replace(w, wealth), c)\n",
    "dudcdc.simplify().cancel().simplify()"
   ]
  },
  {
   "cell_type": "code",
   "execution_count": 12,
   "metadata": {},
   "outputs": [
    {
     "data": {
      "text/latex": [
       "$\\displaystyle c^{\\delta \\sigma - \\delta - \\sigma} \\delta w^{\\delta \\left(1 - \\sigma\\right) - 1} \\left(\\delta \\sigma - \\delta - \\sigma + 1\\right)$"
      ],
      "text/plain": [
       "c**(delta*sigma - delta - sigma)*delta*w**(delta*(1 - sigma) - 1)*(delta*sigma - delta - sigma + 1)"
      ]
     },
     "execution_count": 12,
     "metadata": {},
     "output_type": "execute_result"
    }
   ],
   "source": [
    "dudadc = sym.diff(duda.replace(w, wealth), c)\n",
    "dudadc.simplify().cancel().simplify()"
   ]
  },
  {
   "cell_type": "code",
   "execution_count": 13,
   "metadata": {},
   "outputs": [
    {
     "data": {
      "text/latex": [
       "$\\displaystyle - \\frac{c^{1 - \\delta} c^{\\delta - 1} \\delta \\left(c^{1 - \\delta} \\left(\\underline{a} + a\\right)^{\\delta}\\right)^{1 - \\sigma}}{\\underline{a} + a} + \\frac{c^{1 - \\delta} c^{\\delta - 1} \\left(c^{1 - \\delta} \\left(\\underline{a} + a\\right)^{\\delta}\\right)^{1 - \\sigma} \\left(1 - \\delta\\right)}{c}$"
      ],
      "text/plain": [
       "-c**(1 - delta)*c**(delta - 1)*delta*(c**(1 - delta)*(\\underline{a} + a)**delta)**(1 - sigma)/(\\underline{a} + a) + c**(1 - delta)*c**(delta - 1)*(c**(1 - delta)*(\\underline{a} + a)**delta)**(1 - sigma)*(1 - delta)/c"
      ]
     },
     "execution_count": 13,
     "metadata": {},
     "output_type": "execute_result"
    }
   ],
   "source": [
    "euler = dudc - duda\n",
    "euler"
   ]
  },
  {
   "cell_type": "code",
   "execution_count": 14,
   "metadata": {},
   "outputs": [],
   "source": [
    "chi, delta, rho = sym.symbols(\"chi delta rho\", real=True, positive=True)\n",
    "zeta = sym.symbols(\"zeta\", real=True, positive=True)"
   ]
  },
  {
   "cell_type": "code",
   "execution_count": 15,
   "metadata": {},
   "outputs": [
    {
     "data": {
      "text/latex": [
       "$\\displaystyle \\chi^{1 - \\delta} \\left(- \\chi^{1 - \\delta} \\delta + \\chi^{- \\delta} \\left(1 - \\delta\\right)\\right)^{- \\frac{1}{\\rho}}$"
      ],
      "text/plain": [
       "chi**(1 - delta)/(-chi**(1 - delta)*delta + (1 - delta)/chi**delta)**(1/rho)"
      ]
     },
     "execution_count": 15,
     "metadata": {},
     "output_type": "execute_result"
    }
   ],
   "source": [
    "chi_func = chi ** (1 - delta) * (\n",
    "    (1 - delta) * chi ** (-delta) - delta * chi ** (1 - delta)\n",
    ") ** (-1 / rho)\n",
    "# chi_func = sym.log(chi_func)\n",
    "# chi_func = chi_func.subs(chi, (1 - delta) / delta * sym.exp(zeta) / (1 + sym.exp(zeta)))\n",
    "chi_func"
   ]
  },
  {
   "cell_type": "code",
   "execution_count": 16,
   "metadata": {},
   "outputs": [
    {
     "data": {
      "text/latex": [
       "$\\displaystyle \\lim_{\\chi \\to \\frac{1 - \\delta}{\\delta}^+}\\left(\\chi^{1 - \\delta} \\left(- \\chi^{1 - \\delta} \\delta + \\chi^{- \\delta} \\left(1 - \\delta\\right)\\right)^{- \\frac{1}{\\rho}}\\right)$"
      ],
      "text/plain": [
       "Limit(chi**(1 - delta)/(-chi**(1 - delta)*delta + (1 - delta)/chi**delta)**(1/rho), chi, (1 - delta)/delta, dir='+')"
      ]
     },
     "execution_count": 16,
     "metadata": {},
     "output_type": "execute_result"
    }
   ],
   "source": [
    "sym.limit(chi_func, chi, (1 - delta) / delta)"
   ]
  },
  {
   "cell_type": "code",
   "execution_count": 17,
   "metadata": {},
   "outputs": [
    {
     "name": "stderr",
     "output_type": "stream",
     "text": [
      "<string>:1: RuntimeWarning: invalid value encountered in scalar power\n"
     ]
    },
    {
     "data": {
      "image/png": "[encoded data removed]",
      "text/plain": [
       "<Figure size 640x480 with 1 Axes>"
      ]
     },
     "metadata": {},
     "output_type": "display_data"
    },
    {
     "data": {
      "text/plain": [
       "<sympy.plotting.plot.Plot at 0x162a611b730>"
      ]
     },
     "execution_count": 17,
     "metadata": {},
     "output_type": "execute_result"
    }
   ],
   "source": [
    "delta_sub = 0.1\n",
    "sym.plot(chi_func.subs({delta: delta_sub, rho: 2.5}), xlim=(-15, 15))"
   ]
  },
  {
   "cell_type": "code",
   "execution_count": 18,
   "metadata": {},
   "outputs": [
    {
     "data": {
      "text/latex": [
       "$\\displaystyle - \\chi^{1 - \\delta} \\delta + \\chi^{- \\delta} \\left(1 - \\delta\\right)$"
      ],
      "text/plain": [
       "-chi**(1 - delta)*delta + (1 - delta)/chi**delta"
      ]
     },
     "execution_count": 18,
     "metadata": {},
     "output_type": "execute_result"
    }
   ],
   "source": [
    "chi_inner = (1 - delta) * chi ** (-delta) - delta * chi ** (1 - delta)\n",
    "\n",
    "chi_inner"
   ]
  },
  {
   "cell_type": "code",
   "execution_count": 19,
   "metadata": {},
   "outputs": [
    {
     "data": {
      "text/plain": [
       "[(1 - delta)/delta]"
      ]
     },
     "execution_count": 19,
     "metadata": {},
     "output_type": "execute_result"
    }
   ],
   "source": [
    "sym.solve(chi_inner, chi)"
   ]
  },
  {
   "cell_type": "code",
   "execution_count": 20,
   "metadata": {},
   "outputs": [],
   "source": [
    "chi_alt = chi ** (delta - 1) * (\n",
    "    (1 - delta) * chi**delta - delta * chi ** (delta - 1)\n",
    ") ** (-1 / rho)\n",
    "chi_alt = chi_alt"
   ]
  },
  {
   "cell_type": "code",
   "execution_count": 21,
   "metadata": {},
   "outputs": [
    {
     "name": "stderr",
     "output_type": "stream",
     "text": [
      "<string>:1: RuntimeWarning: invalid value encountered in scalar power\n"
     ]
    },
    {
     "data": {
      "image/png": "[encoded data removed]",
      "text/plain": [
       "<Figure size 640x480 with 1 Axes>"
      ]
     },
     "metadata": {},
     "output_type": "display_data"
    },
    {
     "data": {
      "text/plain": [
       "<sympy.plotting.plot.Plot at 0x162d86d7d60>"
      ]
     },
     "execution_count": 21,
     "metadata": {},
     "output_type": "execute_result"
    }
   ],
   "source": [
    "delta_sub = 0.2\n",
    "sym.plot(\n",
    "    chi_alt.subs({delta: delta_sub, rho: 3}),\n",
    "    xlim=(0, 10),\n",
    ")"
   ]
  },
  {
   "cell_type": "code",
   "execution_count": 22,
   "metadata": {},
   "outputs": [
    {
     "data": {
      "text/latex": [
       "$\\displaystyle \\chi^{\\delta} \\left(1 - \\delta\\right) - \\chi^{\\delta - 1} \\delta$"
      ],
      "text/plain": [
       "chi**delta*(1 - delta) - chi**(delta - 1)*delta"
      ]
     },
     "execution_count": 22,
     "metadata": {},
     "output_type": "execute_result"
    }
   ],
   "source": [
    "chi_alt_inner = (1 - delta) * chi**delta - delta * chi ** (delta - 1)\n",
    "chi_alt_inner"
   ]
  },
  {
   "cell_type": "code",
   "execution_count": 23,
   "metadata": {},
   "outputs": [
    {
     "data": {
      "text/plain": [
       "[-delta/(delta - 1)]"
      ]
     },
     "execution_count": 23,
     "metadata": {},
     "output_type": "execute_result"
    }
   ],
   "source": [
    "sym.solve(chi_alt_inner, chi)"
   ]
  },
  {
   "cell_type": "code",
   "execution_count": null,
   "metadata": {},
   "outputs": [],
   "source": []
  }
 ],
 "metadata": {
  "kernelspec": {
   "display_name": "hark-dev",
   "language": "python",
   "name": "python3"
  },
  "language_info": {
   "codemirror_mode": {
    "name": "ipython",
    "version": 3
   },
   "file_extension": ".py",
   "mimetype": "text/x-python",
   "name": "python",
   "nbconvert_exporter": "python",
   "pygments_lexer": "ipython3",
   "version": "3.10.13"
  }
 },
 "nbformat": 4,
 "nbformat_minor": 2
}
